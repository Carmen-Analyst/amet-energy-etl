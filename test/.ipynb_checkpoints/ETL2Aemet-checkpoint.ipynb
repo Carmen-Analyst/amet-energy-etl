{
 "cells": [
  {
   "cell_type": "code",
   "execution_count": 1,
   "id": "325ec107-ab07-4f52-9e9b-068b3c7ed451",
   "metadata": {
    "editable": true,
    "slideshow": {
     "slide_type": ""
    },
    "tags": []
   },
   "outputs": [
    {
     "ename": "ModuleNotFoundError",
     "evalue": "No module named 'swagger_client'",
     "output_type": "error",
     "traceback": [
      "\u001b[0;31m---------------------------------------------------------------------------\u001b[0m",
      "\u001b[0;31mModuleNotFoundError\u001b[0m                       Traceback (most recent call last)",
      "Cell \u001b[0;32mIn[1], line 5\u001b[0m\n\u001b[1;32m      3\u001b[0m \u001b[38;5;28;01mimport\u001b[39;00m \u001b[38;5;21;01mdatetime\u001b[39;00m\n\u001b[1;32m      4\u001b[0m \u001b[38;5;28;01mimport\u001b[39;00m \u001b[38;5;21;01mjson\u001b[39;00m\n\u001b[0;32m----> 5\u001b[0m \u001b[38;5;28;01mimport\u001b[39;00m \u001b[38;5;21;01mswagger_client\u001b[39;00m\n\u001b[1;32m      6\u001b[0m \u001b[38;5;28;01mfrom\u001b[39;00m \u001b[38;5;21;01mswagger_client\u001b[39;00m\u001b[38;5;21;01m.\u001b[39;00m\u001b[38;5;21;01mrest\u001b[39;00m \u001b[38;5;28;01mimport\u001b[39;00m ApiException\n",
      "\u001b[0;31mModuleNotFoundError\u001b[0m: No module named 'swagger_client'"
     ]
    }
   ],
   "source": [
    "import requests\n",
    "import pandas as pd\n",
    "import datetime\n",
    "import json\n",
    "\n"
   ]
  },
  {
   "cell_type": "code",
   "execution_count": 20,
   "id": "b8117131-b187-47d2-a958-53bb869f27e3",
   "metadata": {
    "editable": true,
    "slideshow": {
     "slide_type": ""
    },
    "tags": []
   },
   "outputs": [
    {
     "name": "stdout",
     "output_type": "stream",
     "text": [
      "<Response [200]>\n"
     ]
    },
    {
     "data": {
      "text/plain": [
       "''"
      ]
     },
     "execution_count": 20,
     "metadata": {},
     "output_type": "execute_result"
    }
   ],
   "source": [
    "#url = \"https://opendata.aemet.es/opendata/api/valores/climatologicos/diarios/datos/fechaini/{fechaIniStr}/fechafin/{fechaFinStr}/todasestaciones\"\n",
    "#url = \"https://opendata.aemet.es/opendata/api/valores/climatologicos/diarios/datos/fechaini/2020-01-01/fechafin/2020-05-01/estacion/todasestaciones\"\n",
    "url = \"https://opendata.aemet.es/opendata/api/observacion/convencional/todas\"\n",
    "#date_end = datetime.datetime.today()\n",
    "#today = date_end.strftime(\"%Y-%m-%d\")\n",
    "#endpoint = f\"{url}?fechaFinStr=today\"\n",
    "\n",
    "response = requests.get(url)\n",
    "\n",
    "#if response.status_code == 200:\n",
    "    #json_file_path = \"/example.json\"\n",
    "\n",
    "    #with open(\"datos.json\", 'w') as file:\n",
    "        #json.dump(response, file)\n",
    "    \n",
    "    #data = response.json()\n",
    "    #dataframe = pd.DataFrame.from_dict(response)\n",
    "    #dataframe = pd.read_json(response,lines=True)\n",
    "    #print(\"Data fetched successfully!\")\n",
    "#else:\n",
    "    #print(\"Failed to fetch data:\", response.status_code)\n",
    "print(response)\n",
    "#print(dataframe)\n",
    "response.text"
   ]
  },
  {
   "cell_type": "code",
   "execution_count": null,
   "id": "c7976ca1-9011-4917-83dc-85fd5ed75185",
   "metadata": {},
   "outputs": [],
   "source": []
  },
  {
   "cell_type": "code",
   "execution_count": null,
   "id": "c042f1ff-d0c4-46c3-b128-29841644e1ed",
   "metadata": {},
   "outputs": [],
   "source": []
  }
 ],
 "metadata": {
  "kernelspec": {
   "display_name": "Python 3 (ipykernel)",
   "language": "python",
   "name": "python3"
  },
  "language_info": {
   "codemirror_mode": {
    "name": "ipython",
    "version": 3
   },
   "file_extension": ".py",
   "mimetype": "text/x-python",
   "name": "python",
   "nbconvert_exporter": "python",
   "pygments_lexer": "ipython3",
   "version": "3.12.7"
  }
 },
 "nbformat": 4,
 "nbformat_minor": 5
}
